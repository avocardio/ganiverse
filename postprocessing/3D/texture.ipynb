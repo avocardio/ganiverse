{
  "cells": [
    {
      "cell_type": "code",
      "execution_count": 1,
      "metadata": {
        "collapsed": false
      },
      "outputs": [],
      "source": [
        "%matplotlib inline\n",
        "from pyvista import set_plot_theme\n",
        "set_plot_theme('document')"
      ]
    },
    {
      "cell_type": "markdown",
      "metadata": {},
      "source": [
        "Applying Textures {#ref_texture_example}\n",
        "=================\n",
        "\n",
        "Plot a mesh with an image projected onto it as a texture.\n"
      ]
    },
    {
      "cell_type": "code",
      "execution_count": 7,
      "metadata": {
        "collapsed": false
      },
      "outputs": [],
      "source": [
        "from matplotlib.cm import get_cmap\n",
        "import matplotlib.pyplot as plt\n",
        "import numpy as np\n",
        "\n",
        "import pyvista as pv\n",
        "from pyvista import examples"
      ]
    },
    {
      "cell_type": "markdown",
      "metadata": {},
      "source": [
        "Texture mapping is easily implemented using PyVista. Many of the\n",
        "geometric objects come preloaded with texture coordinates, so quickly\n",
        "creating a surface and displaying an image is simply:\n"
      ]
    },
    {
      "cell_type": "code",
      "execution_count": 3,
      "metadata": {
        "collapsed": false
      },
      "outputs": [
        {
          "data": {
            "application/vnd.jupyter.widget-view+json": {
              "model_id": "f3950faacf7c48cca614e85e1152e1ce",
              "version_major": 2,
              "version_minor": 0
            },
            "text/plain": [
              "ViewInteractiveWidget(height=768, layout=Layout(height='auto', width='100%'), width=1024)"
            ]
          },
          "metadata": {},
          "output_type": "display_data"
        }
      ],
      "source": [
        "# load a sample texture\n",
        "tex = examples.download_masonry_texture()\n",
        "\n",
        "# create a surface to host this texture\n",
        "surf = pv.Cylinder()\n",
        "\n",
        "surf.plot(texture=tex)"
      ]
    },
    {
      "cell_type": "markdown",
      "metadata": {},
      "source": [
        "But what if your dataset doesn\\'t have texture coordinates? Then you can\n",
        "harness the\n",
        "`pyvista.DataSetFilters.texture_map_to_plane`{.interpreted-text\n",
        "role=\"func\"} filter to properly map an image to a dataset\\'s surface.\n",
        "For example, let\\'s map that same image of bricks to a curvey surface:\n"
      ]
    },
    {
      "cell_type": "code",
      "execution_count": 4,
      "metadata": {
        "collapsed": false
      },
      "outputs": [
        {
          "data": {
            "application/vnd.jupyter.widget-view+json": {
              "model_id": "75ee5f41ddee40a89b60ba99bce75414",
              "version_major": 2,
              "version_minor": 0
            },
            "text/plain": [
              "ViewInteractiveWidget(height=768, layout=Layout(height='auto', width='100%'), width=1024)"
            ]
          },
          "metadata": {},
          "output_type": "display_data"
        }
      ],
      "source": [
        "# create a structured surface\n",
        "x = np.arange(-10, 10, 0.25)\n",
        "y = np.arange(-10, 10, 0.25)\n",
        "x, y = np.meshgrid(x, y)\n",
        "r = np.sqrt(x**2 + y**2)\n",
        "z = np.sin(r)\n",
        "curvsurf = pv.StructuredGrid(x, y, z)\n",
        "\n",
        "# Map the curved surface to a plane - use best fitting plane\n",
        "curvsurf.texture_map_to_plane(inplace=True)\n",
        "\n",
        "curvsurf.plot(texture=tex)"
      ]
    },
    {
      "cell_type": "markdown",
      "metadata": {},
      "source": [
        "Display scalar data along with a texture by ensuring the\n",
        "`interpolate_before_map` setting is `False` and specifying both the\n",
        "`texture` and `scalars` arguments.\n"
      ]
    },
    {
      "cell_type": "code",
      "execution_count": 15,
      "metadata": {
        "collapsed": false
      },
      "outputs": [
        {
          "data": {
            "application/vnd.jupyter.widget-view+json": {
              "model_id": "26d78b73c15d4905a04fb2863b4cb8ad",
              "version_major": 2,
              "version_minor": 0
            },
            "text/plain": [
              "ViewInteractiveWidget(height=768, layout=Layout(height='auto', width='100%'), width=1024)"
            ]
          },
          "metadata": {},
          "output_type": "display_data"
        }
      ],
      "source": [
        "elevated = curvsurf.elevation()\n",
        "\n",
        "elevated.plot(scalars='Elevation', cmap='terrain', texture=tex, interpolate_before_map=False)"
      ]
    },
    {
      "cell_type": "markdown",
      "metadata": {},
      "source": [
        "Note that this process can be completed with any image texture!\n"
      ]
    },
    {
      "cell_type": "code",
      "execution_count": 5,
      "metadata": {
        "collapsed": false
      },
      "outputs": [
        {
          "data": {
            "application/vnd.jupyter.widget-view+json": {
              "model_id": "7ae552e4e95341409a9681d281c44592",
              "version_major": 2,
              "version_minor": 0
            },
            "text/plain": [
              "ViewInteractiveWidget(height=768, layout=Layout(height='auto', width='100%'), width=1024)"
            ]
          },
          "metadata": {},
          "output_type": "display_data"
        }
      ],
      "source": [
        "# use the puppy image\n",
        "tex = examples.download_puppy_texture()\n",
        "curvsurf.plot(texture=tex)"
      ]
    },
    {
      "cell_type": "markdown",
      "metadata": {},
      "source": [
        "Textures from Files\n",
        "===================\n",
        "\n",
        "What about loading your own texture from an image? This is often most\n",
        "easily done using the `pyvista.read_texture`{.interpreted-text\n",
        "role=\"func\"} function - simply pass an image file\\'s path, and this\n",
        "function with handle making a `vtkTexture` for you to use.\n"
      ]
    },
    {
      "cell_type": "code",
      "execution_count": 10,
      "metadata": {},
      "outputs": [
        {
          "data": {
            "text/plain": [
              "<matplotlib.image.AxesImage at 0x289640280>"
            ]
          },
          "execution_count": 10,
          "metadata": {},
          "output_type": "execute_result"
        },
        {
          "data": {
            "image/png": "[encoded data removed]",
            "text/plain": [
              "<Figure size 432x288 with 1 Axes>"
            ]
          },
          "metadata": {
            "needs_background": "light"
          },
          "output_type": "display_data"
        }
      ],
      "source": [
        "img = plt.imread('NoachianMars.bmp')\n",
        "plt.imshow(img)"
      ]
    },
    {
      "cell_type": "code",
      "execution_count": 18,
      "metadata": {},
      "outputs": [],
      "source": [
        "mars = pv.image_to_texture(img)"
      ]
    },
    {
      "cell_type": "code",
      "execution_count": 20,
      "metadata": {
        "collapsed": false
      },
      "outputs": [
        {
          "data": {
            "application/vnd.jupyter.widget-view+json": {
              "model_id": "4565e7d3c1224a67b596a16c540178fb",
              "version_major": 2,
              "version_minor": 0
            },
            "text/plain": [
              "ViewInteractiveWidget(height=768, layout=Layout(height='auto', width='100%'), width=1024)"
            ]
          },
          "metadata": {},
          "output_type": "display_data"
        }
      ],
      "source": [
        "image_file = examples.mapfile\n",
        "\n",
        "tex = pv.read_texture(image_file)\n",
        "curvsurf.plot(texture=mars)"
      ]
    },
    {
      "cell_type": "markdown",
      "metadata": {},
      "source": [
        "NumPy Arrays as Textures\n",
        "========================\n",
        "\n",
        "Want to use a programmatically built image?\n",
        "`pyvista.UniformGrid`{.interpreted-text role=\"class\"} objects can be\n",
        "converted to textures using `pyvista.image_to_texture`{.interpreted-text\n",
        "role=\"func\"} and 3D NumPy (X by Y by RGB) arrays can be converted to\n",
        "textures using `pyvista.numpy_to_texture`{.interpreted-text\n",
        "role=\"func\"}.\n"
      ]
    },
    {
      "cell_type": "code",
      "execution_count": 21,
      "metadata": {
        "collapsed": false
      },
      "outputs": [
        {
          "data": {
            "application/vnd.jupyter.widget-view+json": {
              "model_id": "bfd191eb8bb04e5fa94a60869c547e6f",
              "version_major": 2,
              "version_minor": 0
            },
            "text/plain": [
              "ViewInteractiveWidget(height=768, layout=Layout(height='auto', width='100%'), width=1024)"
            ]
          },
          "metadata": {},
          "output_type": "display_data"
        }
      ],
      "source": [
        "# create an image using numpy,\n",
        "xx, yy = np.meshgrid(np.linspace(-200, 200, 20), np.linspace(-200, 200, 20))\n",
        "A, b = 500, 100\n",
        "zz = A * np.exp(-0.5 * ((xx / b) ** 2.0 + (yy / b) ** 2.0))\n",
        "\n",
        "# Creating a custom RGB image\n",
        "cmap = get_cmap(\"nipy_spectral\")\n",
        "norm = lambda x: (x - np.nanmin(x)) / (np.nanmax(x) - np.nanmin(x))\n",
        "hue = norm(zz.ravel())\n",
        "colors = (cmap(hue)[:, 0:3] * 255.0).astype(np.uint8)\n",
        "image = colors.reshape((xx.shape[0], xx.shape[1], 3), order=\"F\")\n",
        "\n",
        "# Convert 3D numpy array to texture\n",
        "tex = pv.numpy_to_texture(image)\n",
        "\n",
        "# Render it!\n",
        "curvsurf.plot(texture=tex)"
      ]
    },
    {
      "cell_type": "markdown",
      "metadata": {},
      "source": [
        "Create a GIF Movie with updating textures\n",
        "=========================================\n",
        "\n",
        "Generate a moving gif from an active plotter with updating textures.\n"
      ]
    },
    {
      "cell_type": "code",
      "execution_count": 24,
      "metadata": {
        "collapsed": false
      },
      "outputs": [],
      "source": [
        "# Create a plotter object\n",
        "plotter = pv.Plotter(notebook=False, off_screen=True)\n",
        "\n",
        "# Open a gif\n",
        "plotter.open_gif(\"texture.gif\")\n",
        "\n",
        "pts = curvsurf.points.copy()\n",
        "\n",
        "# Update Z and write a frame for each updated position\n",
        "nframe = 15\n",
        "for phase in np.linspace(0, 2 * np.pi, nframe + 1)[:nframe]:\n",
        "\n",
        "    # create an image using numpy,\n",
        "    z = np.sin(r + phase)\n",
        "    pts[:, -1] = z.ravel()\n",
        "\n",
        "    # Creating a custom RGB image\n",
        "    zz = A * np.exp(-0.5 * ((xx / b) ** 2.0 + (yy / b) ** 2.0))\n",
        "    hue = norm(zz.ravel()) * 0.5 * (1.0 + np.sin(phase))\n",
        "    colors = (cmap(hue)[:, 0:3] * 255.0).astype(np.uint8)\n",
        "    image = colors.reshape((xx.shape[0], xx.shape[1], 3), order=\"F\")\n",
        "\n",
        "    # Convert 3D numpy array to texture\n",
        "    tex = pv.numpy_to_texture(image)\n",
        "\n",
        "    plotter.add_mesh(curvsurf, smooth_shading=True, texture=tex)\n",
        "    plotter.update_coordinates(pts, render=False)\n",
        "\n",
        "    # must update normals when smooth shading is enabled\n",
        "    plotter.mesh.compute_normals(cell_normals=False, inplace=True)\n",
        "    plotter.write_frame()\n",
        "    plotter.clear()\n",
        "\n",
        "# Closes and finalizes movie\n",
        "plotter.close()"
      ]
    },
    {
      "cell_type": "markdown",
      "metadata": {},
      "source": [
        "Textures with Transparency\n",
        "==========================\n",
        "\n",
        "Textures can also specify per-pixel opacity values. The image must\n",
        "contain a 4th channel specifying the opacity value from 0\n",
        "\\[transparent\\] to 255 \\[fully visible\\]. To enable this feature just\n",
        "pass the opacity array as the 4th channel of the image as a 3\n",
        "dimensional matrix with shape \\[nrows, ncols, 4\\]\n",
        "`pyvista.numpy_to_texture`{.interpreted-text role=\"func\"}.\n",
        "\n",
        "Here we can download an image that has an alpha channel:\n"
      ]
    },
    {
      "cell_type": "code",
      "execution_count": null,
      "metadata": {
        "collapsed": false
      },
      "outputs": [],
      "source": [
        "rgba = examples.download_rgba_texture()\n",
        "rgba.n_components"
      ]
    },
    {
      "cell_type": "code",
      "execution_count": null,
      "metadata": {
        "collapsed": false
      },
      "outputs": [],
      "source": [
        "# Render it!\n",
        "curvsurf.plot(texture=rgba, show_grid=True)"
      ]
    },
    {
      "cell_type": "markdown",
      "metadata": {},
      "source": [
        "Repeating Textures\n",
        "==================\n",
        "\n",
        "What if you have a single texture that you\\'d like to repeat across a\n",
        "mesh? Simply define the texture coordinates for all nodes explicitly.\n",
        "\n",
        "Here we create the texture coordinates to fill up the grid with several\n",
        "mappings of a single texture. In order to do this we must define texture\n",
        "coordinates outside of the typical `(0, 1)` range:\n"
      ]
    },
    {
      "cell_type": "code",
      "execution_count": null,
      "metadata": {
        "collapsed": false
      },
      "outputs": [],
      "source": [
        "axial_num_puppies = 4\n",
        "xc = np.linspace(0, axial_num_puppies, curvsurf.dimensions[0])\n",
        "yc = np.linspace(0, axial_num_puppies, curvsurf.dimensions[1])\n",
        "\n",
        "xxc, yyc = np.meshgrid(xc, yc)\n",
        "puppy_coords = np.c_[yyc.ravel(), xxc.ravel()]"
      ]
    },
    {
      "cell_type": "markdown",
      "metadata": {},
      "source": [
        "By defining texture coordinates that range `(0, 4)` on each axis, we\n",
        "will produce 4 repetitions of the same texture on this mesh.\n",
        "\n",
        "Then we must associate those texture coordinates with the mesh through\n",
        "the `pyvista.DataSet.active_t_coords`{.interpreted-text role=\"attr\"}\n",
        "property.\n"
      ]
    },
    {
      "cell_type": "code",
      "execution_count": null,
      "metadata": {
        "collapsed": false
      },
      "outputs": [],
      "source": [
        "curvsurf.active_t_coords = puppy_coords"
      ]
    },
    {
      "cell_type": "markdown",
      "metadata": {},
      "source": [
        "Now display all the puppies!\n"
      ]
    },
    {
      "cell_type": "code",
      "execution_count": null,
      "metadata": {
        "collapsed": false
      },
      "outputs": [],
      "source": [
        "# use the puppy image\n",
        "tex = examples.download_puppy_texture()\n",
        "curvsurf.plot(texture=tex, cpos=\"xy\")"
      ]
    },
    {
      "cell_type": "markdown",
      "metadata": {},
      "source": [
        "Spherical Texture Coordinates\n",
        "=============================\n",
        "\n",
        "We have a built in convienance method for mapping textures to spherical\n",
        "coordinate systems much like the planar mapping demoed above.\n"
      ]
    },
    {
      "cell_type": "code",
      "execution_count": 25,
      "metadata": {
        "collapsed": false
      },
      "outputs": [
        {
          "data": {
            "application/vnd.jupyter.widget-view+json": {
              "model_id": "eeb772396c7d4f82b0aee32eca01647e",
              "version_major": 2,
              "version_minor": 0
            },
            "text/plain": [
              "ViewInteractiveWidget(height=768, layout=Layout(height='auto', width='100%'), width=1024)"
            ]
          },
          "metadata": {},
          "output_type": "display_data"
        }
      ],
      "source": [
        "mesh = pv.Sphere()\n",
        "tex = examples.download_masonry_texture()\n",
        "\n",
        "mesh.texture_map_to_sphere(inplace=True)\n",
        "mesh.plot(texture=tex)"
      ]
    },
    {
      "cell_type": "markdown",
      "metadata": {},
      "source": [
        "The helper method above does not always produce the desired texture\n",
        "coordinates, so sometimes it must be done manually. Here is a great,\n",
        "user contributed example from [this support\n",
        "issue](https://github.com/pyvista/pyvista-support/issues/257)\n",
        "\n",
        "Manually create the texture coordinates for a globe map. First, we\n",
        "create the mesh that will be used as the globe. Note the\n",
        "[start\\_theta]{.title-ref} for a slight overlappig\n"
      ]
    },
    {
      "cell_type": "code",
      "execution_count": 26,
      "metadata": {
        "collapsed": false
      },
      "outputs": [
        {
          "data": {
            "application/vnd.jupyter.widget-view+json": {
              "model_id": "0a0a55c790ca4106a1175ee7b447615d",
              "version_major": 2,
              "version_minor": 0
            },
            "text/plain": [
              "ViewInteractiveWidget(height=768, layout=Layout(height='auto', width='100%'), width=1024)"
            ]
          },
          "metadata": {},
          "output_type": "display_data"
        }
      ],
      "source": [
        "sphere = pv.Sphere(\n",
        "    radius=1, theta_resolution=120, phi_resolution=120, start_theta=270.001, end_theta=270\n",
        ")\n",
        "\n",
        "# Initialize the texture coordinates array\n",
        "sphere.active_t_coords = np.zeros((sphere.points.shape[0], 2))\n",
        "\n",
        "# Populate by manually calculating\n",
        "for i in range(sphere.points.shape[0]):\n",
        "    sphere.active_t_coords[i] = [\n",
        "        0.5 + np.arctan2(-sphere.points[i, 0], sphere.points[i, 1]) / (2 * np.pi),\n",
        "        0.5 + np.arcsin(sphere.points[i, 2]) / np.pi,\n",
        "    ]\n",
        "\n",
        "# And let's display it with a world map\n",
        "tex = examples.load_globe_texture()\n",
        "sphere.plot(texture=tex)"
      ]
    }
  ],
  "metadata": {
    "kernelspec": {
      "display_name": "Python 3",
      "language": "python",
      "name": "python3"
    },
    "language_info": {
      "codemirror_mode": {
        "name": "ipython",
        "version": 3
      },
      "file_extension": ".py",
      "mimetype": "text/x-python",
      "name": "python",
      "nbconvert_exporter": "python",
      "pygments_lexer": "ipython3",
      "version": "3.9.7"
    }
  },
  "nbformat": 4,
  "nbformat_minor": 0
}
