{
 "cells": [
  {
   "cell_type": "code",
   "execution_count": 1,
   "metadata": {},
   "outputs": [],
   "source": [
    "# file for generating fictive planet names"
   ]
  },
  {
   "cell_type": "code",
   "execution_count": 1,
   "metadata": {},
   "outputs": [],
   "source": [
    "import random\n",
    "import numpy as np\n",
    "from PIL import Image"
   ]
  },
  {
   "cell_type": "code",
   "execution_count": 43,
   "metadata": {},
   "outputs": [],
   "source": [
    "# function that produces a mix of the letters 'gan' and the word 'Tetraodontidae'\n",
    "\n",
    "def name_generator():\n",
    "    parent_1 = 'tetradontidae' # scientific name of a puffer fish\n",
    "    parent_2 = 'gan'\n",
    "    n = np.random.randint(2,5)\n",
    "    chunks = [parent_1[i:i+n] for i in range(0, len(parent_1), n)]\n",
    "    sample_list = random.choices(chunks, k=2)\n",
    "    sample_list.append(parent_2)\n",
    "    random.shuffle(sample_list)\n",
    "    name = ''.join(sample_list)\n",
    "    num = str(np.random.randint(0,84))\n",
    "\n",
    "    return name+'-'+num"
   ]
  },
  {
   "cell_type": "code",
   "execution_count": 44,
   "metadata": {},
   "outputs": [
    {
     "name": "stdout",
     "output_type": "stream",
     "text": [
      "['gantetrtida-77', 'trgane-23', 'adgante-23', 'etetgan-26', 'ganontida-72', 'ganadontetr-5', 'idagane-13', 'tidagane-0', 'dagane-50', 'ganonda-61']\n"
     ]
    }
   ],
   "source": [
    "n_list = [name_generator() for _ in range(10)]\n",
    "print(n_list)\n"
   ]
  },
  {
   "cell_type": "code",
   "execution_count": 132,
   "metadata": {},
   "outputs": [],
   "source": [
    "def find_dominant_color(img):\n",
    "    # Resizing parameters\n",
    "    width, height = 150,150\n",
    "    image = img.resize((width, height),resample = 0)\n",
    "    # Get colors from image object\n",
    "    pixels = image.getcolors(width * height)\n",
    "    # Get colors that are not black or white\n",
    "    real_colors = [t for t in pixels if np.all(np.array(t[1])>30)]\n",
    "    # Sort them by count number(first element of tuple)\n",
    "    sorted_pixels = sorted(real_colors, key=lambda t: t[0], reverse=True)\n",
    "    # Get the most frequent color\n",
    "    dominant_color = sorted_pixels[0][1]\n",
    "    return dominant_color"
   ]
  },
  {
   "cell_type": "code",
   "execution_count": 133,
   "metadata": {},
   "outputs": [],
   "source": [
    "img = Image.open('../data/raw/io/ezgif-5-46a3659564.jpg')\n",
    "dom_col = find_dominant_color(img)"
   ]
  },
  {
   "cell_type": "code",
   "execution_count": 135,
   "metadata": {},
   "outputs": [
    {
     "name": "stdout",
     "output_type": "stream",
     "text": [
      "[255, 255, 253]\n",
      "\u001b[38;2;255;255;253mgantidae-45 \u001b[38;2;255;255;255m\n"
     ]
    }
   ],
   "source": [
    "def colored(r, g, b, text):\n",
    "    return \"\\033[38;2;{};{};{}m{} \\033[38;2;255;255;255m\".format(r, g, b, text)\n",
    "\n",
    "list_dom_col = list(dom_col)\n",
    "print(list_dom_col)\n",
    "list_dom_col.append(name_generator())\n",
    "\n",
    "print(colored(*tuple(list_dom_col)))"
   ]
  }
 ],
 "metadata": {
  "kernelspec": {
   "display_name": "Python 3.7.6 ('base')",
   "language": "python",
   "name": "python3"
  },
  "language_info": {
   "codemirror_mode": {
    "name": "ipython",
    "version": 3
   },
   "file_extension": ".py",
   "mimetype": "text/x-python",
   "name": "python",
   "nbconvert_exporter": "python",
   "pygments_lexer": "ipython3",
   "version": "3.7.6"
  },
  "orig_nbformat": 4,
  "vscode": {
   "interpreter": {
    "hash": "445594575c5401a50df8dfa2a9b128d722e11afac2f063456fc3377f1e1328c2"
   }
  }
 },
 "nbformat": 4,
 "nbformat_minor": 2
}
